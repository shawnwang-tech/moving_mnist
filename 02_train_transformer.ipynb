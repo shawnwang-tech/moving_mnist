{
 "cells": [
  {
   "cell_type": "code",
   "execution_count": 1,
   "metadata": {},
   "outputs": [],
   "source": [
    "from fastai.vision.all import *\n",
    "from moving_mnist.models.conv_rnn import *\n",
    "from moving_mnist.models.transformer import *\n",
    "from moving_mnist.data import *"
   ]
  },
  {
   "cell_type": "code",
   "execution_count": 2,
   "metadata": {},
   "outputs": [
    {
     "name": "stdout",
     "output_type": "stream",
     "text": [
      "Quadro RTX 8000\n"
     ]
    }
   ],
   "source": [
    "if torch.cuda.is_available():\n",
    "    torch.cuda.set_device(0)\n",
    "    print(torch.cuda.get_device_name())"
   ]
  },
  {
   "cell_type": "markdown",
   "metadata": {},
   "source": [
    "# Train Transformer Model:\n",
    "> Based on DETR"
   ]
  },
  {
   "cell_type": "markdown",
   "metadata": {},
   "source": [
    "We wil predict:\n",
    "- `n_in`: 5 images\n",
    "- `n_out`: 5 images  \n",
    "- `n_obj`: up to 3 objects"
   ]
  },
  {
   "cell_type": "code",
   "execution_count": 3,
   "metadata": {},
   "outputs": [
    {
     "data": {
      "text/plain": [
       "Path('/home/tcapelle/SteadySun/moving_mnist')"
      ]
     },
     "execution_count": 3,
     "metadata": {},
     "output_type": "execute_result"
    }
   ],
   "source": [
    "Path.cwd()"
   ]
  },
  {
   "cell_type": "code",
   "execution_count": 4,
   "metadata": {},
   "outputs": [],
   "source": [
    "DATA_PATH = Path.cwd()/'data'"
   ]
  },
  {
   "cell_type": "code",
   "execution_count": 5,
   "metadata": {},
   "outputs": [],
   "source": [
    "ds = MovingMNIST(DATA_PATH, n_in=5, n_out=5, n_obj=[1,2], th=0.7)"
   ]
  },
  {
   "cell_type": "code",
   "execution_count": 6,
   "metadata": {},
   "outputs": [],
   "source": [
    "train_tl = TfmdLists(range(300), ImageTupleTransform(ds, cl_type=TensorMask))\n",
    "valid_tl = TfmdLists(range(100), ImageTupleTransform(ds, cl_type=TensorMask))"
   ]
  },
  {
   "cell_type": "code",
   "execution_count": 7,
   "metadata": {},
   "outputs": [],
   "source": [
    "dls = DataLoaders.from_dsets(train_tl, valid_tl, bs=1,\n",
    "                             after_batch=[Normalize.from_stats(imagenet_stats[0][0], \n",
    "                                                               imagenet_stats[1][0])]).cuda()"
   ]
  },
  {
   "cell_type": "code",
   "execution_count": 8,
   "metadata": {},
   "outputs": [],
   "source": [
    "loss_func = StackLoss(CrossEntropyLossFlat(axis=2))"
   ]
  },
  {
   "cell_type": "markdown",
   "metadata": {},
   "source": [
    "Left: Input, Right: Target"
   ]
  },
  {
   "cell_type": "code",
   "execution_count": 9,
   "metadata": {},
   "outputs": [],
   "source": [
    "# dls.show_batch() #does not work for bs=1"
   ]
  },
  {
   "cell_type": "markdown",
   "metadata": {},
   "source": [
    "## Baseline"
   ]
  },
  {
   "cell_type": "markdown",
   "metadata": {},
   "source": [
    "`StackUnstack` takes cares of stacking the list of images into a fat tensor, and unstacking them at the end, we will need to modify our loss function to take a list of tensors as input and target."
   ]
  },
  {
   "cell_type": "code",
   "execution_count": 10,
   "metadata": {},
   "outputs": [],
   "source": [
    "# model = StackUnstack(DETR(resnet18, n_in=1, n_out=2, n=int(5*(64/32)**2), nheads=1, num_encoder_layers=1, num_decoder_layers=1))\n",
    "model = StackUnstack(TransformerTS(n_in=1, n_out=2))"
   ]
  },
  {
   "cell_type": "code",
   "execution_count": 17,
   "metadata": {},
   "outputs": [
    {
     "data": {
      "text/plain": [
       "StackUnstack(\n",
       "  (module): TransformerTS(\n",
       "    (backbone): TimeDistributed(Encoder(\n",
       "      (body): Sequential(\n",
       "        (0): Conv2d(1, 64, kernel_size=(7, 7), stride=(2, 2), padding=(3, 3), bias=False)\n",
       "        (1): BatchNorm2d(64, eps=1e-05, momentum=0.1, affine=True, track_running_stats=True)\n",
       "        (2): ReLU(inplace=True)\n",
       "        (3): MaxPool2d(kernel_size=3, stride=2, padding=1, dilation=1, ceil_mode=False)\n",
       "        (4): Sequential(\n",
       "          (0): BasicBlock(\n",
       "            (conv1): Conv2d(64, 64, kernel_size=(3, 3), stride=(1, 1), padding=(1, 1), bias=False)\n",
       "            (bn1): BatchNorm2d(64, eps=1e-05, momentum=0.1, affine=True, track_running_stats=True)\n",
       "            (relu): ReLU(inplace=True)\n",
       "            (conv2): Conv2d(64, 64, kernel_size=(3, 3), stride=(1, 1), padding=(1, 1), bias=False)\n",
       "            (bn2): BatchNorm2d(64, eps=1e-05, momentum=0.1, affine=True, track_running_stats=True)\n",
       "          )\n",
       "          (1): BasicBlock(\n",
       "            (conv1): Conv2d(64, 64, kernel_size=(3, 3), stride=(1, 1), padding=(1, 1), bias=False)\n",
       "            (bn1): BatchNorm2d(64, eps=1e-05, momentum=0.1, affine=True, track_running_stats=True)\n",
       "            (relu): ReLU(inplace=True)\n",
       "            (conv2): Conv2d(64, 64, kernel_size=(3, 3), stride=(1, 1), padding=(1, 1), bias=False)\n",
       "            (bn2): BatchNorm2d(64, eps=1e-05, momentum=0.1, affine=True, track_running_stats=True)\n",
       "          )\n",
       "          (2): BasicBlock(\n",
       "            (conv1): Conv2d(64, 64, kernel_size=(3, 3), stride=(1, 1), padding=(1, 1), bias=False)\n",
       "            (bn1): BatchNorm2d(64, eps=1e-05, momentum=0.1, affine=True, track_running_stats=True)\n",
       "            (relu): ReLU(inplace=True)\n",
       "            (conv2): Conv2d(64, 64, kernel_size=(3, 3), stride=(1, 1), padding=(1, 1), bias=False)\n",
       "            (bn2): BatchNorm2d(64, eps=1e-05, momentum=0.1, affine=True, track_running_stats=True)\n",
       "          )\n",
       "        )\n",
       "        (5): Sequential(\n",
       "          (0): BasicBlock(\n",
       "            (conv1): Conv2d(64, 128, kernel_size=(3, 3), stride=(2, 2), padding=(1, 1), bias=False)\n",
       "            (bn1): BatchNorm2d(128, eps=1e-05, momentum=0.1, affine=True, track_running_stats=True)\n",
       "            (relu): ReLU(inplace=True)\n",
       "            (conv2): Conv2d(128, 128, kernel_size=(3, 3), stride=(1, 1), padding=(1, 1), bias=False)\n",
       "            (bn2): BatchNorm2d(128, eps=1e-05, momentum=0.1, affine=True, track_running_stats=True)\n",
       "            (downsample): Sequential(\n",
       "              (0): Conv2d(64, 128, kernel_size=(1, 1), stride=(2, 2), bias=False)\n",
       "              (1): BatchNorm2d(128, eps=1e-05, momentum=0.1, affine=True, track_running_stats=True)\n",
       "            )\n",
       "          )\n",
       "          (1): BasicBlock(\n",
       "            (conv1): Conv2d(128, 128, kernel_size=(3, 3), stride=(1, 1), padding=(1, 1), bias=False)\n",
       "            (bn1): BatchNorm2d(128, eps=1e-05, momentum=0.1, affine=True, track_running_stats=True)\n",
       "            (relu): ReLU(inplace=True)\n",
       "            (conv2): Conv2d(128, 128, kernel_size=(3, 3), stride=(1, 1), padding=(1, 1), bias=False)\n",
       "            (bn2): BatchNorm2d(128, eps=1e-05, momentum=0.1, affine=True, track_running_stats=True)\n",
       "          )\n",
       "          (2): BasicBlock(\n",
       "            (conv1): Conv2d(128, 128, kernel_size=(3, 3), stride=(1, 1), padding=(1, 1), bias=False)\n",
       "            (bn1): BatchNorm2d(128, eps=1e-05, momentum=0.1, affine=True, track_running_stats=True)\n",
       "            (relu): ReLU(inplace=True)\n",
       "            (conv2): Conv2d(128, 128, kernel_size=(3, 3), stride=(1, 1), padding=(1, 1), bias=False)\n",
       "            (bn2): BatchNorm2d(128, eps=1e-05, momentum=0.1, affine=True, track_running_stats=True)\n",
       "          )\n",
       "          (3): BasicBlock(\n",
       "            (conv1): Conv2d(128, 128, kernel_size=(3, 3), stride=(1, 1), padding=(1, 1), bias=False)\n",
       "            (bn1): BatchNorm2d(128, eps=1e-05, momentum=0.1, affine=True, track_running_stats=True)\n",
       "            (relu): ReLU(inplace=True)\n",
       "            (conv2): Conv2d(128, 128, kernel_size=(3, 3), stride=(1, 1), padding=(1, 1), bias=False)\n",
       "            (bn2): BatchNorm2d(128, eps=1e-05, momentum=0.1, affine=True, track_running_stats=True)\n",
       "          )\n",
       "        )\n",
       "        (6): Sequential(\n",
       "          (0): BasicBlock(\n",
       "            (conv1): Conv2d(128, 256, kernel_size=(3, 3), stride=(2, 2), padding=(1, 1), bias=False)\n",
       "            (bn1): BatchNorm2d(256, eps=1e-05, momentum=0.1, affine=True, track_running_stats=True)\n",
       "            (relu): ReLU(inplace=True)\n",
       "            (conv2): Conv2d(256, 256, kernel_size=(3, 3), stride=(1, 1), padding=(1, 1), bias=False)\n",
       "            (bn2): BatchNorm2d(256, eps=1e-05, momentum=0.1, affine=True, track_running_stats=True)\n",
       "            (downsample): Sequential(\n",
       "              (0): Conv2d(128, 256, kernel_size=(1, 1), stride=(2, 2), bias=False)\n",
       "              (1): BatchNorm2d(256, eps=1e-05, momentum=0.1, affine=True, track_running_stats=True)\n",
       "            )\n",
       "          )\n",
       "          (1): BasicBlock(\n",
       "            (conv1): Conv2d(256, 256, kernel_size=(3, 3), stride=(1, 1), padding=(1, 1), bias=False)\n",
       "            (bn1): BatchNorm2d(256, eps=1e-05, momentum=0.1, affine=True, track_running_stats=True)\n",
       "            (relu): ReLU(inplace=True)\n",
       "            (conv2): Conv2d(256, 256, kernel_size=(3, 3), stride=(1, 1), padding=(1, 1), bias=False)\n",
       "            (bn2): BatchNorm2d(256, eps=1e-05, momentum=0.1, affine=True, track_running_stats=True)\n",
       "          )\n",
       "          (2): BasicBlock(\n",
       "            (conv1): Conv2d(256, 256, kernel_size=(3, 3), stride=(1, 1), padding=(1, 1), bias=False)\n",
       "            (bn1): BatchNorm2d(256, eps=1e-05, momentum=0.1, affine=True, track_running_stats=True)\n",
       "            (relu): ReLU(inplace=True)\n",
       "            (conv2): Conv2d(256, 256, kernel_size=(3, 3), stride=(1, 1), padding=(1, 1), bias=False)\n",
       "            (bn2): BatchNorm2d(256, eps=1e-05, momentum=0.1, affine=True, track_running_stats=True)\n",
       "          )\n",
       "          (3): BasicBlock(\n",
       "            (conv1): Conv2d(256, 256, kernel_size=(3, 3), stride=(1, 1), padding=(1, 1), bias=False)\n",
       "            (bn1): BatchNorm2d(256, eps=1e-05, momentum=0.1, affine=True, track_running_stats=True)\n",
       "            (relu): ReLU(inplace=True)\n",
       "            (conv2): Conv2d(256, 256, kernel_size=(3, 3), stride=(1, 1), padding=(1, 1), bias=False)\n",
       "            (bn2): BatchNorm2d(256, eps=1e-05, momentum=0.1, affine=True, track_running_stats=True)\n",
       "          )\n",
       "          (4): BasicBlock(\n",
       "            (conv1): Conv2d(256, 256, kernel_size=(3, 3), stride=(1, 1), padding=(1, 1), bias=False)\n",
       "            (bn1): BatchNorm2d(256, eps=1e-05, momentum=0.1, affine=True, track_running_stats=True)\n",
       "            (relu): ReLU(inplace=True)\n",
       "            (conv2): Conv2d(256, 256, kernel_size=(3, 3), stride=(1, 1), padding=(1, 1), bias=False)\n",
       "            (bn2): BatchNorm2d(256, eps=1e-05, momentum=0.1, affine=True, track_running_stats=True)\n",
       "          )\n",
       "          (5): BasicBlock(\n",
       "            (conv1): Conv2d(256, 256, kernel_size=(3, 3), stride=(1, 1), padding=(1, 1), bias=False)\n",
       "            (bn1): BatchNorm2d(256, eps=1e-05, momentum=0.1, affine=True, track_running_stats=True)\n",
       "            (relu): ReLU(inplace=True)\n",
       "            (conv2): Conv2d(256, 256, kernel_size=(3, 3), stride=(1, 1), padding=(1, 1), bias=False)\n",
       "            (bn2): BatchNorm2d(256, eps=1e-05, momentum=0.1, affine=True, track_running_stats=True)\n",
       "          )\n",
       "        )\n",
       "        (7): Sequential(\n",
       "          (0): BasicBlock(\n",
       "            (conv1): Conv2d(256, 512, kernel_size=(3, 3), stride=(2, 2), padding=(1, 1), bias=False)\n",
       "            (bn1): BatchNorm2d(512, eps=1e-05, momentum=0.1, affine=True, track_running_stats=True)\n",
       "            (relu): ReLU(inplace=True)\n",
       "            (conv2): Conv2d(512, 512, kernel_size=(3, 3), stride=(1, 1), padding=(1, 1), bias=False)\n",
       "            (bn2): BatchNorm2d(512, eps=1e-05, momentum=0.1, affine=True, track_running_stats=True)\n",
       "            (downsample): Sequential(\n",
       "              (0): Conv2d(256, 512, kernel_size=(1, 1), stride=(2, 2), bias=False)\n",
       "              (1): BatchNorm2d(512, eps=1e-05, momentum=0.1, affine=True, track_running_stats=True)\n",
       "            )\n",
       "          )\n",
       "          (1): BasicBlock(\n",
       "            (conv1): Conv2d(512, 512, kernel_size=(3, 3), stride=(1, 1), padding=(1, 1), bias=False)\n",
       "            (bn1): BatchNorm2d(512, eps=1e-05, momentum=0.1, affine=True, track_running_stats=True)\n",
       "            (relu): ReLU(inplace=True)\n",
       "            (conv2): Conv2d(512, 512, kernel_size=(3, 3), stride=(1, 1), padding=(1, 1), bias=False)\n",
       "            (bn2): BatchNorm2d(512, eps=1e-05, momentum=0.1, affine=True, track_running_stats=True)\n",
       "          )\n",
       "          (2): BasicBlock(\n",
       "            (conv1): Conv2d(512, 512, kernel_size=(3, 3), stride=(1, 1), padding=(1, 1), bias=False)\n",
       "            (bn1): BatchNorm2d(512, eps=1e-05, momentum=0.1, affine=True, track_running_stats=True)\n",
       "            (relu): ReLU(inplace=True)\n",
       "            (conv2): Conv2d(512, 512, kernel_size=(3, 3), stride=(1, 1), padding=(1, 1), bias=False)\n",
       "            (bn2): BatchNorm2d(512, eps=1e-05, momentum=0.1, affine=True, track_running_stats=True)\n",
       "          )\n",
       "        )\n",
       "      )\n",
       "    ))\n",
       "    (conv): TimeDistributed(Conv2d(512, 256, kernel_size=(1, 1), stride=(1, 1)))\n",
       "    (transformer): Transformer(\n",
       "      (layers_encoding): ModuleList(\n",
       "        (0): Encoder(\n",
       "          (_selfAttention): MultiHeadAttention(\n",
       "            (_W_q): Linear(in_features=256, out_features=64, bias=True)\n",
       "            (_W_k): Linear(in_features=256, out_features=64, bias=True)\n",
       "            (_W_v): Linear(in_features=256, out_features=64, bias=True)\n",
       "            (_W_o): Linear(in_features=64, out_features=256, bias=True)\n",
       "          )\n",
       "          (_feedForward): PositionwiseFeedForward(\n",
       "            (_linear1): Linear(in_features=256, out_features=2048, bias=True)\n",
       "            (_linear2): Linear(in_features=2048, out_features=256, bias=True)\n",
       "          )\n",
       "          (_layerNorm1): LayerNorm((256,), eps=1e-05, elementwise_affine=True)\n",
       "          (_layerNorm2): LayerNorm((256,), eps=1e-05, elementwise_affine=True)\n",
       "          (_dopout): Dropout(p=0.2, inplace=False)\n",
       "        )\n",
       "        (1): Encoder(\n",
       "          (_selfAttention): MultiHeadAttention(\n",
       "            (_W_q): Linear(in_features=256, out_features=64, bias=True)\n",
       "            (_W_k): Linear(in_features=256, out_features=64, bias=True)\n",
       "            (_W_v): Linear(in_features=256, out_features=64, bias=True)\n",
       "            (_W_o): Linear(in_features=64, out_features=256, bias=True)\n",
       "          )\n",
       "          (_feedForward): PositionwiseFeedForward(\n",
       "            (_linear1): Linear(in_features=256, out_features=2048, bias=True)\n",
       "            (_linear2): Linear(in_features=2048, out_features=256, bias=True)\n",
       "          )\n",
       "          (_layerNorm1): LayerNorm((256,), eps=1e-05, elementwise_affine=True)\n",
       "          (_layerNorm2): LayerNorm((256,), eps=1e-05, elementwise_affine=True)\n",
       "          (_dopout): Dropout(p=0.2, inplace=False)\n",
       "        )\n",
       "        (2): Encoder(\n",
       "          (_selfAttention): MultiHeadAttention(\n",
       "            (_W_q): Linear(in_features=256, out_features=64, bias=True)\n",
       "            (_W_k): Linear(in_features=256, out_features=64, bias=True)\n",
       "            (_W_v): Linear(in_features=256, out_features=64, bias=True)\n",
       "            (_W_o): Linear(in_features=64, out_features=256, bias=True)\n",
       "          )\n",
       "          (_feedForward): PositionwiseFeedForward(\n",
       "            (_linear1): Linear(in_features=256, out_features=2048, bias=True)\n",
       "            (_linear2): Linear(in_features=2048, out_features=256, bias=True)\n",
       "          )\n",
       "          (_layerNorm1): LayerNorm((256,), eps=1e-05, elementwise_affine=True)\n",
       "          (_layerNorm2): LayerNorm((256,), eps=1e-05, elementwise_affine=True)\n",
       "          (_dopout): Dropout(p=0.2, inplace=False)\n",
       "        )\n",
       "        (3): Encoder(\n",
       "          (_selfAttention): MultiHeadAttention(\n",
       "            (_W_q): Linear(in_features=256, out_features=64, bias=True)\n",
       "            (_W_k): Linear(in_features=256, out_features=64, bias=True)\n",
       "            (_W_v): Linear(in_features=256, out_features=64, bias=True)\n",
       "            (_W_o): Linear(in_features=64, out_features=256, bias=True)\n",
       "          )\n",
       "          (_feedForward): PositionwiseFeedForward(\n",
       "            (_linear1): Linear(in_features=256, out_features=2048, bias=True)\n",
       "            (_linear2): Linear(in_features=2048, out_features=256, bias=True)\n",
       "          )\n",
       "          (_layerNorm1): LayerNorm((256,), eps=1e-05, elementwise_affine=True)\n",
       "          (_layerNorm2): LayerNorm((256,), eps=1e-05, elementwise_affine=True)\n",
       "          (_dopout): Dropout(p=0.2, inplace=False)\n",
       "        )\n",
       "      )\n",
       "      (layers_decoding): ModuleList(\n",
       "        (0): Decoder(\n",
       "          (_selfAttention): MultiHeadAttention(\n",
       "            (_W_q): Linear(in_features=256, out_features=64, bias=True)\n",
       "            (_W_k): Linear(in_features=256, out_features=64, bias=True)\n",
       "            (_W_v): Linear(in_features=256, out_features=64, bias=True)\n",
       "            (_W_o): Linear(in_features=64, out_features=256, bias=True)\n",
       "          )\n",
       "          (_encoderDecoderAttention): MultiHeadAttention(\n",
       "            (_W_q): Linear(in_features=256, out_features=64, bias=True)\n",
       "            (_W_k): Linear(in_features=256, out_features=64, bias=True)\n",
       "            (_W_v): Linear(in_features=256, out_features=64, bias=True)\n",
       "            (_W_o): Linear(in_features=64, out_features=256, bias=True)\n",
       "          )\n",
       "          (_feedForward): PositionwiseFeedForward(\n",
       "            (_linear1): Linear(in_features=256, out_features=2048, bias=True)\n",
       "            (_linear2): Linear(in_features=2048, out_features=256, bias=True)\n",
       "          )\n",
       "          (_layerNorm1): LayerNorm((256,), eps=1e-05, elementwise_affine=True)\n",
       "          (_layerNorm2): LayerNorm((256,), eps=1e-05, elementwise_affine=True)\n",
       "          (_layerNorm3): LayerNorm((256,), eps=1e-05, elementwise_affine=True)\n",
       "          (_dopout): Dropout(p=0.2, inplace=False)\n",
       "        )\n",
       "        (1): Decoder(\n",
       "          (_selfAttention): MultiHeadAttention(\n",
       "            (_W_q): Linear(in_features=256, out_features=64, bias=True)\n",
       "            (_W_k): Linear(in_features=256, out_features=64, bias=True)\n",
       "            (_W_v): Linear(in_features=256, out_features=64, bias=True)\n",
       "            (_W_o): Linear(in_features=64, out_features=256, bias=True)\n",
       "          )\n",
       "          (_encoderDecoderAttention): MultiHeadAttention(\n",
       "            (_W_q): Linear(in_features=256, out_features=64, bias=True)\n",
       "            (_W_k): Linear(in_features=256, out_features=64, bias=True)\n",
       "            (_W_v): Linear(in_features=256, out_features=64, bias=True)\n",
       "            (_W_o): Linear(in_features=64, out_features=256, bias=True)\n",
       "          )\n",
       "          (_feedForward): PositionwiseFeedForward(\n",
       "            (_linear1): Linear(in_features=256, out_features=2048, bias=True)\n",
       "            (_linear2): Linear(in_features=2048, out_features=256, bias=True)\n",
       "          )\n",
       "          (_layerNorm1): LayerNorm((256,), eps=1e-05, elementwise_affine=True)\n",
       "          (_layerNorm2): LayerNorm((256,), eps=1e-05, elementwise_affine=True)\n",
       "          (_layerNorm3): LayerNorm((256,), eps=1e-05, elementwise_affine=True)\n",
       "          (_dopout): Dropout(p=0.2, inplace=False)\n",
       "        )\n",
       "        (2): Decoder(\n",
       "          (_selfAttention): MultiHeadAttention(\n",
       "            (_W_q): Linear(in_features=256, out_features=64, bias=True)\n",
       "            (_W_k): Linear(in_features=256, out_features=64, bias=True)\n",
       "            (_W_v): Linear(in_features=256, out_features=64, bias=True)\n",
       "            (_W_o): Linear(in_features=64, out_features=256, bias=True)\n",
       "          )\n",
       "          (_encoderDecoderAttention): MultiHeadAttention(\n",
       "            (_W_q): Linear(in_features=256, out_features=64, bias=True)\n",
       "            (_W_k): Linear(in_features=256, out_features=64, bias=True)\n",
       "            (_W_v): Linear(in_features=256, out_features=64, bias=True)\n",
       "            (_W_o): Linear(in_features=64, out_features=256, bias=True)\n",
       "          )\n",
       "          (_feedForward): PositionwiseFeedForward(\n",
       "            (_linear1): Linear(in_features=256, out_features=2048, bias=True)\n",
       "            (_linear2): Linear(in_features=2048, out_features=256, bias=True)\n",
       "          )\n",
       "          (_layerNorm1): LayerNorm((256,), eps=1e-05, elementwise_affine=True)\n",
       "          (_layerNorm2): LayerNorm((256,), eps=1e-05, elementwise_affine=True)\n",
       "          (_layerNorm3): LayerNorm((256,), eps=1e-05, elementwise_affine=True)\n",
       "          (_dopout): Dropout(p=0.2, inplace=False)\n",
       "        )\n",
       "        (3): Decoder(\n",
       "          (_selfAttention): MultiHeadAttention(\n",
       "            (_W_q): Linear(in_features=256, out_features=64, bias=True)\n",
       "            (_W_k): Linear(in_features=256, out_features=64, bias=True)\n",
       "            (_W_v): Linear(in_features=256, out_features=64, bias=True)\n",
       "            (_W_o): Linear(in_features=64, out_features=256, bias=True)\n",
       "          )\n",
       "          (_encoderDecoderAttention): MultiHeadAttention(\n",
       "            (_W_q): Linear(in_features=256, out_features=64, bias=True)\n",
       "            (_W_k): Linear(in_features=256, out_features=64, bias=True)\n",
       "            (_W_v): Linear(in_features=256, out_features=64, bias=True)\n",
       "            (_W_o): Linear(in_features=64, out_features=256, bias=True)\n",
       "          )\n",
       "          (_feedForward): PositionwiseFeedForward(\n",
       "            (_linear1): Linear(in_features=256, out_features=2048, bias=True)\n",
       "            (_linear2): Linear(in_features=2048, out_features=256, bias=True)\n",
       "          )\n",
       "          (_layerNorm1): LayerNorm((256,), eps=1e-05, elementwise_affine=True)\n",
       "          (_layerNorm2): LayerNorm((256,), eps=1e-05, elementwise_affine=True)\n",
       "          (_layerNorm3): LayerNorm((256,), eps=1e-05, elementwise_affine=True)\n",
       "          (_dopout): Dropout(p=0.2, inplace=False)\n",
       "        )\n",
       "      )\n",
       "      (_embedding): Linear(in_features=256, out_features=256, bias=True)\n",
       "      (_linear): Linear(in_features=256, out_features=256, bias=True)\n",
       "    )\n",
       "    (decoder): TimeDistributed(Sequential(\n",
       "      (0): UpsampleBLock(in=256, out=128, blur=False, residual=False, act=ReLU(), attn=False, norm=None)\n",
       "      (1): UpsampleBLock(in=128, out=128, blur=False, residual=False, act=ReLU(), attn=False, norm=None)\n",
       "      (2): UpsampleBLock(in=128, out=64, blur=False, residual=False, act=ReLU(), attn=False, norm=None)\n",
       "      (3): UpsampleBLock(in=64, out=32, blur=False, residual=False, act=ReLU(), attn=False, norm=None)\n",
       "      (4): UpsampleBLock(in=32, out=16, blur=False, residual=False, act=ReLU(), attn=False, norm=None)\n",
       "      (5): Conv2d(16, 2, kernel_size=(3, 3), stride=(1, 1), padding=(1, 1))\n",
       "    ))\n",
       "  )\n",
       ")"
      ]
     },
     "execution_count": 17,
     "metadata": {},
     "output_type": "execute_result"
    }
   ],
   "source": [
    "model"
   ]
  },
  {
   "cell_type": "markdown",
   "metadata": {},
   "source": [
    "As the `ImageSeq` is a `tuple` of images, we will need to stack them to compute loss."
   ]
  },
  {
   "cell_type": "code",
   "execution_count": 18,
   "metadata": {},
   "outputs": [],
   "source": [
    "learn = Learner(dls, model, loss_func=loss_func, splitter=partial(tf_split, stacked=True), cbs=[]).to_fp16()"
   ]
  },
  {
   "cell_type": "code",
   "execution_count": 19,
   "metadata": {},
   "outputs": [],
   "source": [
    "learn.freeze()"
   ]
  },
  {
   "cell_type": "markdown",
   "metadata": {},
   "source": [
    "I have a weird bug that if I use `nn.LeakyReLU` after doing `learn.lr_find()` the model does not train (the loss get stucked)."
   ]
  },
  {
   "cell_type": "code",
   "execution_count": 15,
   "metadata": {},
   "outputs": [
    {
     "data": {
      "text/html": [],
      "text/plain": [
       "<IPython.core.display.HTML object>"
      ]
     },
     "metadata": {},
     "output_type": "display_data"
    },
    {
     "data": {
      "text/plain": [
       "SuggestedLRs(lr_min=0.017378008365631102, lr_steep=0.14454397559165955)"
      ]
     },
     "execution_count": 15,
     "metadata": {},
     "output_type": "execute_result"
    },
    {
     "data": {
      "image/png": "[encoded data removed]",
      "text/plain": [
       "<Figure size 432x288 with 1 Axes>"
      ]
     },
     "metadata": {
      "needs_background": "light"
     },
     "output_type": "display_data"
    }
   ],
   "source": [
    "learn.lr_find()"
   ]
  },
  {
   "cell_type": "code",
   "execution_count": 20,
   "metadata": {},
   "outputs": [
    {
     "data": {
      "text/html": [
       "<table border=\"1\" class=\"dataframe\">\n",
       "  <thead>\n",
       "    <tr style=\"text-align: left;\">\n",
       "      <th>epoch</th>\n",
       "      <th>train_loss</th>\n",
       "      <th>valid_loss</th>\n",
       "      <th>time</th>\n",
       "    </tr>\n",
       "  </thead>\n",
       "  <tbody>\n",
       "    <tr>\n",
       "      <td>0</td>\n",
       "      <td>0.129871</td>\n",
       "      <td>0.129139</td>\n",
       "      <td>00:28</td>\n",
       "    </tr>\n",
       "    <tr>\n",
       "      <td>1</td>\n",
       "      <td>0.125856</td>\n",
       "      <td>0.139628</td>\n",
       "      <td>00:28</td>\n",
       "    </tr>\n",
       "    <tr>\n",
       "      <td>2</td>\n",
       "      <td>0.130224</td>\n",
       "      <td>0.139459</td>\n",
       "      <td>00:29</td>\n",
       "    </tr>\n",
       "    <tr>\n",
       "      <td>3</td>\n",
       "      <td>0.123834</td>\n",
       "      <td>0.124233</td>\n",
       "      <td>00:28</td>\n",
       "    </tr>\n",
       "    <tr>\n",
       "      <td>4</td>\n",
       "      <td>0.128979</td>\n",
       "      <td>0.119502</td>\n",
       "      <td>00:28</td>\n",
       "    </tr>\n",
       "    <tr>\n",
       "      <td>5</td>\n",
       "      <td>0.116724</td>\n",
       "      <td>0.128846</td>\n",
       "      <td>00:28</td>\n",
       "    </tr>\n",
       "    <tr>\n",
       "      <td>6</td>\n",
       "      <td>0.113866</td>\n",
       "      <td>0.114182</td>\n",
       "      <td>00:28</td>\n",
       "    </tr>\n",
       "    <tr>\n",
       "      <td>7</td>\n",
       "      <td>0.115080</td>\n",
       "      <td>0.123263</td>\n",
       "      <td>00:28</td>\n",
       "    </tr>\n",
       "    <tr>\n",
       "      <td>8</td>\n",
       "      <td>0.119888</td>\n",
       "      <td>0.122002</td>\n",
       "      <td>00:28</td>\n",
       "    </tr>\n",
       "    <tr>\n",
       "      <td>9</td>\n",
       "      <td>0.112150</td>\n",
       "      <td>0.119879</td>\n",
       "      <td>00:29</td>\n",
       "    </tr>\n",
       "  </tbody>\n",
       "</table>"
      ],
      "text/plain": [
       "<IPython.core.display.HTML object>"
      ]
     },
     "metadata": {},
     "output_type": "display_data"
    }
   ],
   "source": [
    "learn.fit_one_cycle(10, 5e-4)"
   ]
  },
  {
   "cell_type": "code",
   "execution_count": 21,
   "metadata": {},
   "outputs": [
    {
     "data": {
      "text/html": [],
      "text/plain": [
       "<IPython.core.display.HTML object>"
      ]
     },
     "metadata": {},
     "output_type": "display_data"
    }
   ],
   "source": [
    "p,t = learn.get_preds()"
   ]
  },
  {
   "cell_type": "markdown",
   "metadata": {},
   "source": [
    "As you can see, the results is a list of 5 tensors with 100 samples each."
   ]
  },
  {
   "cell_type": "code",
   "execution_count": 22,
   "metadata": {},
   "outputs": [
    {
     "data": {
      "text/plain": [
       "(5, torch.Size([100, 2, 64, 64]))"
      ]
     },
     "execution_count": 22,
     "metadata": {},
     "output_type": "execute_result"
    }
   ],
   "source": [
    "len(p), p[0].shape"
   ]
  },
  {
   "cell_type": "code",
   "execution_count": 23,
   "metadata": {},
   "outputs": [],
   "source": [
    "def show_res(t, idx, argmax=False):\n",
    "    if argmax:\n",
    "        im_seq = ImageSeq.create([t[i][idx].argmax(0).unsqueeze(0) for i in range(5)], TensorMask)\n",
    "    else:\n",
    "        im_seq = ImageSeq.create([t[i][idx] for i in range(5)])\n",
    "    im_seq.show(figsize=(8,4));"
   ]
  },
  {
   "cell_type": "code",
   "execution_count": 24,
   "metadata": {},
   "outputs": [
    {
     "data": {
      "image/png": "[encoded data removed]",
      "text/plain": [
       "<Figure size 576x288 with 1 Axes>"
      ]
     },
     "metadata": {
      "needs_background": "light"
     },
     "output_type": "display_data"
    },
    {
     "data": {
      "image/png": "[encoded data removed]",
      "text/plain": [
       "<Figure size 576x288 with 1 Axes>"
      ]
     },
     "metadata": {
      "needs_background": "light"
     },
     "output_type": "display_data"
    }
   ],
   "source": [
    "k = random.randint(0,99)\n",
    "show_res(t,k)\n",
    "show_res(p,k, True)"
   ]
  },
  {
   "cell_type": "code",
   "execution_count": 27,
   "metadata": {},
   "outputs": [
    {
     "data": {
      "text/plain": [
       "'1.5.1'"
      ]
     },
     "execution_count": 27,
     "metadata": {},
     "output_type": "execute_result"
    }
   ],
   "source": [
    "torch.__version__"
   ]
  },
  {
   "cell_type": "code",
   "execution_count": null,
   "metadata": {},
   "outputs": [],
   "source": []
  }
 ],
 "metadata": {
  "kernelspec": {
   "display_name": "Python 3",
   "language": "python",
   "name": "python3"
  },
  "language_info": {
   "codemirror_mode": {
    "name": "ipython",
    "version": 3
   },
   "file_extension": ".py",
   "mimetype": "text/x-python",
   "name": "python",
   "nbconvert_exporter": "python",
   "pygments_lexer": "ipython3",
   "version": "3.8.5"
  }
 },
 "nbformat": 4,
 "nbformat_minor": 4
}
