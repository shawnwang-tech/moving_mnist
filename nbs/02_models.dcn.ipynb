{
 "cells": [
  {
   "cell_type": "code",
   "execution_count": null,
   "metadata": {},
   "outputs": [],
   "source": [
    "# default_exp models.dcn"
   ]
  },
  {
   "cell_type": "markdown",
   "metadata": {},
   "source": [
    "# DCN\n",
    "- https://github.com/CharlesShang/DCNv2\n",
    "- https://arxiv.org/abs/1707.02069"
   ]
  },
  {
   "cell_type": "code",
   "execution_count": null,
   "metadata": {},
   "outputs": [],
   "source": [
    "#export\n",
    "from fastai2.vision.all import *\n",
    "from moving_mnist.models.conv_rnn import *\n",
    "try:\n",
    "    from mmcv.ops import *\n",
    "except:\n",
    "    'please install MCV for your Pytorch version'"
   ]
  },
  {
   "cell_type": "code",
   "execution_count": null,
   "metadata": {},
   "outputs": [
    {
     "name": "stdout",
     "output_type": "stream",
     "text": [
      "Quadro RTX 8000\n"
     ]
    }
   ],
   "source": [
    "if torch.cuda.is_available():\n",
    "    torch.cuda.set_device(0)\n",
    "    print(torch.cuda.get_device_name())"
   ]
  },
  {
   "cell_type": "code",
   "execution_count": null,
   "metadata": {},
   "outputs": [],
   "source": [
    "#export\n",
    "class DCN(Module):\n",
    "    \"A Deformable Convolutional Kernel\"\n",
    "    def __init__(self, \n",
    "                 in_channels, \n",
    "                 out_channels,\n",
    "                 kernel_size,\n",
    "                 stride, \n",
    "                 padding,\n",
    "                 dilation=1, \n",
    "                 deformable_groups=1):\n",
    "\n",
    "        channels_ = deformable_groups * 2 * kernel_size[0] * kernel_size[1]\n",
    "        self.conv_offset = nn.Conv2d(in_channels,\n",
    "                                     channels_,\n",
    "                                     kernel_size=kernel_size,\n",
    "                                     stride=stride,\n",
    "                                     padding=padding,\n",
    "                                     bias=True)\n",
    "        self.dconv = DeformConv2d(in_channels, out_channels, kernel_size, stride, padding, dilation, 1, deformable_groups)\n",
    "        self.init_offset()\n",
    "\n",
    "    def init_offset(self):\n",
    "        self.conv_offset.weight.data.zero_()\n",
    "        self.conv_offset.bias.data.zero_()\n",
    "\n",
    "    def forward(self, input):\n",
    "        out = self.conv_offset(input)\n",
    "        o1, o2 = torch.chunk(out, 2, dim=1)\n",
    "        offset = torch.cat((o1, o2), dim=1)\n",
    "        return self.dconv(input, offset)"
   ]
  },
  {
   "cell_type": "code",
   "execution_count": null,
   "metadata": {},
   "outputs": [],
   "source": [
    "body = create_body(resnet34, 2)[0:6]"
   ]
  },
  {
   "cell_type": "code",
   "execution_count": null,
   "metadata": {},
   "outputs": [],
   "source": [
    "class Net(Module):\n",
    "    def __init__(self, arch=resnet34, n_in=1, n_out=2):\n",
    "        self.body = create_body(arch, n_in)[0:6]\n",
    "        self.head = nn.Sequential(DCN(128, 256, (5,5), 1, 2),\n",
    "                                  DCN(256,256,(3,3), 2, 1))\n",
    "    def forward(self, x):\n",
    "        return self.head(self.body(x))"
   ]
  },
  {
   "cell_type": "code",
   "execution_count": null,
   "metadata": {},
   "outputs": [],
   "source": [
    "m = Net().cuda()"
   ]
  },
  {
   "cell_type": "code",
   "execution_count": null,
   "metadata": {},
   "outputs": [
    {
     "data": {
      "text/plain": [
       "torch.Size([2, 256, 8, 8])"
      ]
     },
     "execution_count": null,
     "metadata": {},
     "output_type": "execute_result"
    }
   ],
   "source": [
    "m(torch.rand(2,1,128,128).cuda()).shape"
   ]
  },
  {
   "cell_type": "markdown",
   "metadata": {},
   "source": [
    "# Export -"
   ]
  },
  {
   "cell_type": "code",
   "execution_count": null,
   "metadata": {},
   "outputs": [
    {
     "name": "stdout",
     "output_type": "stream",
     "text": [
      "Converted 00_data.ipynb.\n",
      "Converted 01_models.conv_rnn.ipynb.\n",
      "Converted 02_models.dcn.ipynb.\n",
      "Converted 02_models.transformer.ipynb.\n",
      "Converted index.ipynb.\n"
     ]
    }
   ],
   "source": [
    "# hide\n",
    "from nbdev.export import *\n",
    "notebook2script()"
   ]
  }
 ],
 "metadata": {
  "kernelspec": {
   "display_name": "Python 3",
   "language": "python",
   "name": "python3"
  }
 },
 "nbformat": 4,
 "nbformat_minor": 4
}
