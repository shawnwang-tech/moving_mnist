{
 "cells": [
  {
   "cell_type": "code",
   "execution_count": null,
   "metadata": {},
   "outputs": [],
   "source": [
    "# default_exp data"
   ]
  },
  {
   "cell_type": "markdown",
   "metadata": {},
   "source": [
    "# Data functionalities\n",
    "\n",
    "> Generating and importing data"
   ]
  },
  {
   "cell_type": "code",
   "execution_count": null,
   "metadata": {},
   "outputs": [],
   "source": [
    "import gzip\n",
    "from fastai2.vision.all import *"
   ]
  },
  {
   "cell_type": "markdown",
   "metadata": {},
   "source": [
    "## Loading external data\n",
    "Most of the functions come from: https://github.com/jhhuang96/ConvLSTM-PyTorch"
   ]
  },
  {
   "cell_type": "code",
   "execution_count": null,
   "metadata": {},
   "outputs": [],
   "source": [
    "#export\n",
    "ROOT_PATH = Path.cwd().parent\n",
    "DATA_PATH = Path.cwd().parent/'data'"
   ]
  },
  {
   "cell_type": "code",
   "execution_count": null,
   "metadata": {},
   "outputs": [],
   "source": [
    "#export\n",
    "def load_mnist():\n",
    "    \"Load MNIST dataset for generating training data\"\n",
    "    path = DATA_PATH/'train_images.gz'\n",
    "    with gzip.open(path, 'rb') as f:\n",
    "        mnist = np.frombuffer(f.read(), np.uint8, offset=16)\n",
    "        mnist = mnist.reshape(-1, 28, 28)\n",
    "    return mnist"
   ]
  },
  {
   "cell_type": "code",
   "execution_count": null,
   "metadata": {},
   "outputs": [],
   "source": [
    "data = load_mnist()\n",
    "test_eq(data.shape, [60000,28,28])"
   ]
  },
  {
   "cell_type": "markdown",
   "metadata": {},
   "source": [
    "we can show some:"
   ]
  },
  {
   "cell_type": "code",
   "execution_count": null,
   "metadata": {},
   "outputs": [
    {
     "data": {
      "image/png": "[encoded data removed]",
      "text/plain": [
       "<Figure size 1080x216 with 5 Axes>"
      ]
     },
     "metadata": {
      "needs_background": "light"
     },
     "output_type": "display_data"
    }
   ],
   "source": [
    "show_images(data[0:5]);"
   ]
  },
  {
   "cell_type": "code",
   "execution_count": null,
   "metadata": {},
   "outputs": [],
   "source": [
    "\n",
    "# def load_fixed_set(root, is_train):\n",
    "#     # Load the fixed dataset\n",
    "#     filename = 'mnist_test_seq.npy'\n",
    "#     path = os.path.join(root, filename)\n",
    "#     dataset = np.load(path)\n",
    "#     dataset = dataset[..., np.newaxis]\n",
    "#     return dataset\n"
   ]
  },
  {
   "cell_type": "markdown",
   "metadata": {},
   "source": [
    "## Generating moving mnist sequences:"
   ]
  },
  {
   "cell_type": "code",
   "execution_count": null,
   "metadata": {},
   "outputs": [],
   "source": [
    "class MovingMNIST:\n",
    "    def __init__(self, root, n_frames_input, n_frames_output, num_objects):\n",
    "        self.dataset = None\n",
    "        self.mnist = load_mnist(root)\n",
    "        self.length = int(1e4) if self.dataset is None else self.dataset.shape[1]\n",
    "\n",
    "        self.is_train = is_train\n",
    "        self.num_objects = num_objects\n",
    "        self.n_frames_input = n_frames_input\n",
    "        self.n_frames_output = n_frames_output\n",
    "        self.n_frames_total = self.n_frames_input + self.n_frames_output\n",
    "        # For generating data\n",
    "        self.image_size_ = 64\n",
    "        self.digit_size_ = 28\n",
    "        self.step_length_ = 0.1\n",
    "\n",
    "    def get_random_trajectory(self, seq_length):\n",
    "        ''' Generate a random sequence of a MNIST digit '''\n",
    "        canvas_size = self.image_size_ - self.digit_size_\n",
    "        x = random.random()\n",
    "        y = random.random()\n",
    "        theta = random.random() * 2 * np.pi\n",
    "        v_y = np.sin(theta)\n",
    "        v_x = np.cos(theta)\n",
    "\n",
    "        start_y = np.zeros(seq_length)\n",
    "        start_x = np.zeros(seq_length)\n",
    "        for i in range(seq_length):\n",
    "            # Take a step along velocity.\n",
    "            y += v_y * self.step_length_\n",
    "            x += v_x * self.step_length_\n",
    "\n",
    "            # Bounce off edges.\n",
    "            if x <= 0:\n",
    "                x = 0\n",
    "                v_x = -v_x\n",
    "            if x >= 1.0:\n",
    "                x = 1.0\n",
    "                v_x = -v_x\n",
    "            if y <= 0:\n",
    "                y = 0\n",
    "                v_y = -v_y\n",
    "            if y >= 1.0:\n",
    "                y = 1.0\n",
    "                v_y = -v_y\n",
    "            start_y[i] = y\n",
    "            start_x[i] = x\n",
    "\n",
    "        # Scale to the size of the canvas.\n",
    "        start_y = (canvas_size * start_y).astype(np.int32)\n",
    "        start_x = (canvas_size * start_x).astype(np.int32)\n",
    "        return start_y, start_x\n",
    "\n",
    "    def generate_moving_mnist(self, num_digits=2):\n",
    "        '''\n",
    "        Get random trajectories for the digits and generate a video.\n",
    "        '''\n",
    "        data = np.zeros((self.n_frames_total, self.image_size_, self.image_size_), dtype=np.float32)\n",
    "        for n in range(num_digits):\n",
    "            # Trajectory\n",
    "            start_y, start_x = self.get_random_trajectory(self.n_frames_total)\n",
    "            ind = random.randint(0, self.mnist.shape[0] - 1)\n",
    "            digit_image = self.mnist[ind]\n",
    "            for i in range(self.n_frames_total):\n",
    "                top = start_y[i]\n",
    "                left = start_x[i]\n",
    "                bottom = top + self.digit_size_\n",
    "                right = left + self.digit_size_\n",
    "                # Draw digit\n",
    "                data[i, top:bottom, left:right] = np.maximum(data[i, top:bottom, left:right], digit_image)\n",
    "\n",
    "        data = data[..., np.newaxis]\n",
    "        return data\n",
    "\n",
    "    def __getitem__(self, idx):\n",
    "        length = self.n_frames_input + self.n_frames_output\n",
    "        if self.is_train or self.num_objects[0] != 2:\n",
    "            # Sample number of objects\n",
    "            num_digits = random.choice(self.num_objects)\n",
    "            # Generate data on the fly\n",
    "            images = self.generate_moving_mnist(num_digits)\n",
    "        else:\n",
    "            images = self.dataset[:, idx, ...]\n",
    "        r = 1\n",
    "        w = int(64 / r)\n",
    "        images = images.reshape((length, w, r, w, r)).transpose(0, 2, 4, 1, 3).reshape((length, r * r, w, w))\n",
    "\n",
    "        input = images[:self.n_frames_input]\n",
    "        if self.n_frames_output > 0:\n",
    "            output = images[self.n_frames_input:length]\n",
    "        else:\n",
    "            output = []\n",
    "\n",
    "        frozen = input[-1]\n",
    "        output = torch.from_numpy(output / 255.0).contiguous().float()\n",
    "        input = torch.from_numpy(input / 255.0).contiguous().float()\n",
    "        out = [idx, output, input, frozen, np.zeros(1)]\n",
    "        return out\n",
    "\n",
    "    def __len__(self):\n",
    "        return self.length"
   ]
  },
  {
   "cell_type": "code",
   "execution_count": null,
   "metadata": {},
   "outputs": [],
   "source": []
  }
 ],
 "metadata": {
  "kernelspec": {
   "display_name": "Python 3",
   "language": "python",
   "name": "python3"
  }
 },
 "nbformat": 4,
 "nbformat_minor": 4
}
